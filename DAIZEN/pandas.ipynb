{
 "cells": [
  {
   "cell_type": "markdown",
   "metadata": {},
   "source": [
    "# Pandas\n",
    "* Series: 1次元の配列\n",
    "* DataFrame: 2次元の配列"
   ]
  },
  {
   "cell_type": "markdown",
   "metadata": {},
   "source": [
    "## データの取り扱い"
   ]
  },
  {
   "cell_type": "code",
   "execution_count": 5,
   "metadata": {},
   "outputs": [
    {
     "name": "stdout",
     "output_type": "stream",
     "text": [
      "0    1\n",
      "1    2\n",
      "2    3\n",
      "dtype: int64 6\n"
     ]
    }
   ],
   "source": [
    "import numpy as np\n",
    "import pandas as pd\n",
    "\n",
    "s = pd.Series([1, 2, 3])\n",
    "s  # 左にインデックス、右に要素\n",
    "\n",
    "print(\n",
    "    s,\n",
    "    s.sum(),\n",
    ")"
   ]
  },
  {
   "cell_type": "code",
   "execution_count": 8,
   "metadata": {},
   "outputs": [
    {
     "name": "stdout",
     "output_type": "stream",
     "text": [
      "   A  B\n",
      "0  1  3\n",
      "1  2  4\n",
      "          0         1         2         3\n",
      "0  0.527904  0.064980 -0.754208 -1.337228\n",
      "1 -0.036329 -0.878987  2.527335  1.367659\n",
      "2  0.963007  0.213922 -0.249781 -1.364490\n",
      "3 -0.321657 -1.110548 -0.460904  0.464913\n",
      "4 -0.912040 -0.302405  0.731294 -1.094151\n",
      "5 -1.091501 -0.652010  0.232474  0.278643\n"
     ]
    }
   ],
   "source": [
    "df = pd.DataFrame({\"A\": [1, 2], \"B\": [3, 4]})\n",
    "print(df)\n",
    "df = pd.DataFrame(np.random.randn(6, 4))\n",
    "print(df)"
   ]
  },
  {
   "cell_type": "code",
   "execution_count": 9,
   "metadata": {},
   "outputs": [
    {
     "data": {
      "text/html": [
       "<div>\n",
       "<style scoped>\n",
       "    .dataframe tbody tr th:only-of-type {\n",
       "        vertical-align: middle;\n",
       "    }\n",
       "\n",
       "    .dataframe tbody tr th {\n",
       "        vertical-align: top;\n",
       "    }\n",
       "\n",
       "    .dataframe thead th {\n",
       "        text-align: right;\n",
       "    }\n",
       "</style>\n",
       "<table border=\"1\" class=\"dataframe\">\n",
       "  <thead>\n",
       "    <tr style=\"text-align: right;\">\n",
       "      <th></th>\n",
       "      <th>0</th>\n",
       "      <th>1</th>\n",
       "      <th>2</th>\n",
       "      <th>3</th>\n",
       "    </tr>\n",
       "  </thead>\n",
       "  <tbody>\n",
       "    <tr>\n",
       "      <th>2022-01-01</th>\n",
       "      <td>-1.183619</td>\n",
       "      <td>-0.339819</td>\n",
       "      <td>0.428886</td>\n",
       "      <td>-0.293968</td>\n",
       "    </tr>\n",
       "    <tr>\n",
       "      <th>2022-01-02</th>\n",
       "      <td>-0.217525</td>\n",
       "      <td>-0.877012</td>\n",
       "      <td>0.140220</td>\n",
       "      <td>-1.261291</td>\n",
       "    </tr>\n",
       "    <tr>\n",
       "      <th>2022-01-03</th>\n",
       "      <td>-1.510796</td>\n",
       "      <td>0.417685</td>\n",
       "      <td>0.068797</td>\n",
       "      <td>0.733771</td>\n",
       "    </tr>\n",
       "    <tr>\n",
       "      <th>2022-01-04</th>\n",
       "      <td>-0.721062</td>\n",
       "      <td>0.948308</td>\n",
       "      <td>1.796441</td>\n",
       "      <td>1.202504</td>\n",
       "    </tr>\n",
       "    <tr>\n",
       "      <th>2022-01-05</th>\n",
       "      <td>-1.126037</td>\n",
       "      <td>0.018592</td>\n",
       "      <td>0.534462</td>\n",
       "      <td>0.536118</td>\n",
       "    </tr>\n",
       "    <tr>\n",
       "      <th>2022-01-06</th>\n",
       "      <td>0.991293</td>\n",
       "      <td>-0.870274</td>\n",
       "      <td>0.089913</td>\n",
       "      <td>0.560146</td>\n",
       "    </tr>\n",
       "  </tbody>\n",
       "</table>\n",
       "</div>"
      ],
      "text/plain": [
       "                   0         1         2         3\n",
       "2022-01-01 -1.183619 -0.339819  0.428886 -0.293968\n",
       "2022-01-02 -0.217525 -0.877012  0.140220 -1.261291\n",
       "2022-01-03 -1.510796  0.417685  0.068797  0.733771\n",
       "2022-01-04 -0.721062  0.948308  1.796441  1.202504\n",
       "2022-01-05 -1.126037  0.018592  0.534462  0.536118\n",
       "2022-01-06  0.991293 -0.870274  0.089913  0.560146"
      ]
     },
     "execution_count": 9,
     "metadata": {},
     "output_type": "execute_result"
    }
   ],
   "source": [
    "# 行・列に名前を付ける\n",
    "df = pd.DataFrame(np.random.randn(6,4), index=pd.date_range('20220101', periods=6))\n",
    "df"
   ]
  },
  {
   "cell_type": "code",
   "execution_count": 11,
   "metadata": {},
   "outputs": [
    {
     "data": {
      "text/html": [
       "<div>\n",
       "<style scoped>\n",
       "    .dataframe tbody tr th:only-of-type {\n",
       "        vertical-align: middle;\n",
       "    }\n",
       "\n",
       "    .dataframe tbody tr th {\n",
       "        vertical-align: top;\n",
       "    }\n",
       "\n",
       "    .dataframe thead th {\n",
       "        text-align: right;\n",
       "    }\n",
       "</style>\n",
       "<table border=\"1\" class=\"dataframe\">\n",
       "  <thead>\n",
       "    <tr style=\"text-align: right;\">\n",
       "      <th></th>\n",
       "      <th>A</th>\n",
       "      <th>B</th>\n",
       "      <th>C</th>\n",
       "      <th>D</th>\n",
       "    </tr>\n",
       "  </thead>\n",
       "  <tbody>\n",
       "    <tr>\n",
       "      <th>2022-01-01</th>\n",
       "      <td>-0.801423</td>\n",
       "      <td>-0.521256</td>\n",
       "      <td>2.613659</td>\n",
       "      <td>-1.264521</td>\n",
       "    </tr>\n",
       "    <tr>\n",
       "      <th>2022-01-02</th>\n",
       "      <td>0.175570</td>\n",
       "      <td>0.211410</td>\n",
       "      <td>-1.132272</td>\n",
       "      <td>0.330294</td>\n",
       "    </tr>\n",
       "    <tr>\n",
       "      <th>2022-01-03</th>\n",
       "      <td>0.648094</td>\n",
       "      <td>2.468972</td>\n",
       "      <td>0.237504</td>\n",
       "      <td>-0.577279</td>\n",
       "    </tr>\n",
       "    <tr>\n",
       "      <th>2022-01-04</th>\n",
       "      <td>-1.083805</td>\n",
       "      <td>-0.804736</td>\n",
       "      <td>0.219717</td>\n",
       "      <td>0.798769</td>\n",
       "    </tr>\n",
       "    <tr>\n",
       "      <th>2022-01-05</th>\n",
       "      <td>0.974522</td>\n",
       "      <td>-0.910128</td>\n",
       "      <td>0.652141</td>\n",
       "      <td>0.316324</td>\n",
       "    </tr>\n",
       "    <tr>\n",
       "      <th>2022-01-06</th>\n",
       "      <td>0.332762</td>\n",
       "      <td>0.685423</td>\n",
       "      <td>0.514601</td>\n",
       "      <td>1.679364</td>\n",
       "    </tr>\n",
       "  </tbody>\n",
       "</table>\n",
       "</div>"
      ],
      "text/plain": [
       "                   A         B         C         D\n",
       "2022-01-01 -0.801423 -0.521256  2.613659 -1.264521\n",
       "2022-01-02  0.175570  0.211410 -1.132272  0.330294\n",
       "2022-01-03  0.648094  2.468972  0.237504 -0.577279\n",
       "2022-01-04 -1.083805 -0.804736  0.219717  0.798769\n",
       "2022-01-05  0.974522 -0.910128  0.652141  0.316324\n",
       "2022-01-06  0.332762  0.685423  0.514601  1.679364"
      ]
     },
     "execution_count": 11,
     "metadata": {},
     "output_type": "execute_result"
    }
   ],
   "source": [
    "df = pd.DataFrame(\n",
    "    np.random.randn(6, 4),\n",
    "    index=pd.date_range(\"20220101\", periods=6),\n",
    "    columns=[\"A\", \"B\", \"C\", \"D\"],\n",
    ")\n",
    "df"
   ]
  },
  {
   "cell_type": "code",
   "execution_count": 12,
   "metadata": {},
   "outputs": [
    {
     "data": {
      "text/html": [
       "<div>\n",
       "<style scoped>\n",
       "    .dataframe tbody tr th:only-of-type {\n",
       "        vertical-align: middle;\n",
       "    }\n",
       "\n",
       "    .dataframe tbody tr th {\n",
       "        vertical-align: top;\n",
       "    }\n",
       "\n",
       "    .dataframe thead th {\n",
       "        text-align: right;\n",
       "    }\n",
       "</style>\n",
       "<table border=\"1\" class=\"dataframe\">\n",
       "  <thead>\n",
       "    <tr style=\"text-align: right;\">\n",
       "      <th></th>\n",
       "      <th>A</th>\n",
       "      <th>B</th>\n",
       "      <th>C</th>\n",
       "      <th>D</th>\n",
       "    </tr>\n",
       "  </thead>\n",
       "  <tbody>\n",
       "    <tr>\n",
       "      <th>2022-01-05</th>\n",
       "      <td>0.974522</td>\n",
       "      <td>-0.910128</td>\n",
       "      <td>0.652141</td>\n",
       "      <td>0.316324</td>\n",
       "    </tr>\n",
       "    <tr>\n",
       "      <th>2022-01-04</th>\n",
       "      <td>-1.083805</td>\n",
       "      <td>-0.804736</td>\n",
       "      <td>0.219717</td>\n",
       "      <td>0.798769</td>\n",
       "    </tr>\n",
       "    <tr>\n",
       "      <th>2022-01-01</th>\n",
       "      <td>-0.801423</td>\n",
       "      <td>-0.521256</td>\n",
       "      <td>2.613659</td>\n",
       "      <td>-1.264521</td>\n",
       "    </tr>\n",
       "    <tr>\n",
       "      <th>2022-01-02</th>\n",
       "      <td>0.175570</td>\n",
       "      <td>0.211410</td>\n",
       "      <td>-1.132272</td>\n",
       "      <td>0.330294</td>\n",
       "    </tr>\n",
       "    <tr>\n",
       "      <th>2022-01-06</th>\n",
       "      <td>0.332762</td>\n",
       "      <td>0.685423</td>\n",
       "      <td>0.514601</td>\n",
       "      <td>1.679364</td>\n",
       "    </tr>\n",
       "    <tr>\n",
       "      <th>2022-01-03</th>\n",
       "      <td>0.648094</td>\n",
       "      <td>2.468972</td>\n",
       "      <td>0.237504</td>\n",
       "      <td>-0.577279</td>\n",
       "    </tr>\n",
       "  </tbody>\n",
       "</table>\n",
       "</div>"
      ],
      "text/plain": [
       "                   A         B         C         D\n",
       "2022-01-05  0.974522 -0.910128  0.652141  0.316324\n",
       "2022-01-04 -1.083805 -0.804736  0.219717  0.798769\n",
       "2022-01-01 -0.801423 -0.521256  2.613659 -1.264521\n",
       "2022-01-02  0.175570  0.211410 -1.132272  0.330294\n",
       "2022-01-06  0.332762  0.685423  0.514601  1.679364\n",
       "2022-01-03  0.648094  2.468972  0.237504 -0.577279"
      ]
     },
     "execution_count": 12,
     "metadata": {},
     "output_type": "execute_result"
    }
   ],
   "source": [
    "# データの並び替え\n",
    "df.sort_values(by=\"B\")"
   ]
  },
  {
   "cell_type": "markdown",
   "metadata": {},
   "source": [
    "## データの取り出し"
   ]
  },
  {
   "cell_type": "code",
   "execution_count": 13,
   "metadata": {},
   "outputs": [
    {
     "data": {
      "text/html": [
       "<div>\n",
       "<style scoped>\n",
       "    .dataframe tbody tr th:only-of-type {\n",
       "        vertical-align: middle;\n",
       "    }\n",
       "\n",
       "    .dataframe tbody tr th {\n",
       "        vertical-align: top;\n",
       "    }\n",
       "\n",
       "    .dataframe thead th {\n",
       "        text-align: right;\n",
       "    }\n",
       "</style>\n",
       "<table border=\"1\" class=\"dataframe\">\n",
       "  <thead>\n",
       "    <tr style=\"text-align: right;\">\n",
       "      <th></th>\n",
       "      <th>A</th>\n",
       "      <th>B</th>\n",
       "      <th>C</th>\n",
       "      <th>D</th>\n",
       "    </tr>\n",
       "  </thead>\n",
       "  <tbody>\n",
       "    <tr>\n",
       "      <th>2022-01-01</th>\n",
       "      <td>-0.801423</td>\n",
       "      <td>-0.521256</td>\n",
       "      <td>2.613659</td>\n",
       "      <td>-1.264521</td>\n",
       "    </tr>\n",
       "    <tr>\n",
       "      <th>2022-01-02</th>\n",
       "      <td>0.175570</td>\n",
       "      <td>0.211410</td>\n",
       "      <td>-1.132272</td>\n",
       "      <td>0.330294</td>\n",
       "    </tr>\n",
       "    <tr>\n",
       "      <th>2022-01-03</th>\n",
       "      <td>0.648094</td>\n",
       "      <td>2.468972</td>\n",
       "      <td>0.237504</td>\n",
       "      <td>-0.577279</td>\n",
       "    </tr>\n",
       "  </tbody>\n",
       "</table>\n",
       "</div>"
      ],
      "text/plain": [
       "                   A         B         C         D\n",
       "2022-01-01 -0.801423 -0.521256  2.613659 -1.264521\n",
       "2022-01-02  0.175570  0.211410 -1.132272  0.330294\n",
       "2022-01-03  0.648094  2.468972  0.237504 -0.577279"
      ]
     },
     "execution_count": 13,
     "metadata": {},
     "output_type": "execute_result"
    }
   ],
   "source": [
    "df[0:3]  # 特定の行を取り出す"
   ]
  },
  {
   "cell_type": "code",
   "execution_count": 17,
   "metadata": {},
   "outputs": [
    {
     "name": "stdout",
     "output_type": "stream",
     "text": [
      "A   -0.801423\n",
      "B   -0.521256\n",
      "C    2.613659\n",
      "D   -1.264521\n",
      "Name: 2022-01-01 00:00:00, dtype: float64\n",
      "A   -0.801423\n",
      "B   -0.521256\n",
      "Name: 2022-01-01 00:00:00, dtype: float64\n",
      "                   A         B\n",
      "2022-01-01 -0.801423 -0.521256\n",
      "2022-01-02  0.175570  0.211410\n",
      "2022-01-03  0.648094  2.468972\n",
      "2022-01-04 -1.083805 -0.804736\n"
     ]
    }
   ],
   "source": [
    "print(df.loc[\"20220101\"])\n",
    "print(df.loc[\"20220101\", [\"A\", \"B\"]])\n",
    "print(df.loc[\"20220101\":\"20220104\", [\"A\", \"B\"]])"
   ]
  },
  {
   "cell_type": "markdown",
   "metadata": {},
   "source": [
    "## 条件に当てはまるデータの抽出\n",
    "boolean indexing（ブーリアンインデクシング）"
   ]
  },
  {
   "cell_type": "code",
   "execution_count": 20,
   "metadata": {},
   "outputs": [
    {
     "name": "stdout",
     "output_type": "stream",
     "text": [
      "                   A         B         C         D\n",
      "2022-01-02  0.175570  0.211410 -1.132272  0.330294\n",
      "2022-01-03  0.648094  2.468972  0.237504 -0.577279\n",
      "2022-01-05  0.974522 -0.910128  0.652141  0.316324\n",
      "2022-01-06  0.332762  0.685423  0.514601  1.679364\n",
      "                   A         B         C         D\n",
      "2022-01-01       NaN       NaN  2.613659       NaN\n",
      "2022-01-02  0.175570  0.211410       NaN  0.330294\n",
      "2022-01-03  0.648094  2.468972  0.237504       NaN\n",
      "2022-01-04       NaN       NaN  0.219717  0.798769\n",
      "2022-01-05  0.974522       NaN  0.652141  0.316324\n",
      "2022-01-06  0.332762  0.685423  0.514601  1.679364\n"
     ]
    }
   ],
   "source": [
    "print(df[df.A > 0])\n",
    "print(df[df > 0])  # 当てはまらない箇所はNaN表示"
   ]
  },
  {
   "cell_type": "markdown",
   "metadata": {},
   "source": [
    "## データの追加・結合"
   ]
  },
  {
   "cell_type": "code",
   "execution_count": 22,
   "metadata": {},
   "outputs": [
    {
     "data": {
      "text/html": [
       "<div>\n",
       "<style scoped>\n",
       "    .dataframe tbody tr th:only-of-type {\n",
       "        vertical-align: middle;\n",
       "    }\n",
       "\n",
       "    .dataframe tbody tr th {\n",
       "        vertical-align: top;\n",
       "    }\n",
       "\n",
       "    .dataframe thead th {\n",
       "        text-align: right;\n",
       "    }\n",
       "</style>\n",
       "<table border=\"1\" class=\"dataframe\">\n",
       "  <thead>\n",
       "    <tr style=\"text-align: right;\">\n",
       "      <th></th>\n",
       "      <th>A</th>\n",
       "      <th>B</th>\n",
       "      <th>C</th>\n",
       "      <th>D</th>\n",
       "      <th>E</th>\n",
       "    </tr>\n",
       "  </thead>\n",
       "  <tbody>\n",
       "    <tr>\n",
       "      <th>2022-01-01</th>\n",
       "      <td>-0.801423</td>\n",
       "      <td>-0.521256</td>\n",
       "      <td>2.613659</td>\n",
       "      <td>-1.264521</td>\n",
       "      <td>one</td>\n",
       "    </tr>\n",
       "    <tr>\n",
       "      <th>2022-01-02</th>\n",
       "      <td>0.175570</td>\n",
       "      <td>0.211410</td>\n",
       "      <td>-1.132272</td>\n",
       "      <td>0.330294</td>\n",
       "      <td>one</td>\n",
       "    </tr>\n",
       "    <tr>\n",
       "      <th>2022-01-03</th>\n",
       "      <td>0.648094</td>\n",
       "      <td>2.468972</td>\n",
       "      <td>0.237504</td>\n",
       "      <td>-0.577279</td>\n",
       "      <td>two</td>\n",
       "    </tr>\n",
       "    <tr>\n",
       "      <th>2022-01-04</th>\n",
       "      <td>-1.083805</td>\n",
       "      <td>-0.804736</td>\n",
       "      <td>0.219717</td>\n",
       "      <td>0.798769</td>\n",
       "      <td>three</td>\n",
       "    </tr>\n",
       "    <tr>\n",
       "      <th>2022-01-05</th>\n",
       "      <td>0.974522</td>\n",
       "      <td>-0.910128</td>\n",
       "      <td>0.652141</td>\n",
       "      <td>0.316324</td>\n",
       "      <td>four</td>\n",
       "    </tr>\n",
       "    <tr>\n",
       "      <th>2022-01-06</th>\n",
       "      <td>0.332762</td>\n",
       "      <td>0.685423</td>\n",
       "      <td>0.514601</td>\n",
       "      <td>1.679364</td>\n",
       "      <td>three</td>\n",
       "    </tr>\n",
       "  </tbody>\n",
       "</table>\n",
       "</div>"
      ],
      "text/plain": [
       "                   A         B         C         D      E\n",
       "2022-01-01 -0.801423 -0.521256  2.613659 -1.264521    one\n",
       "2022-01-02  0.175570  0.211410 -1.132272  0.330294    one\n",
       "2022-01-03  0.648094  2.468972  0.237504 -0.577279    two\n",
       "2022-01-04 -1.083805 -0.804736  0.219717  0.798769  three\n",
       "2022-01-05  0.974522 -0.910128  0.652141  0.316324   four\n",
       "2022-01-06  0.332762  0.685423  0.514601  1.679364  three"
      ]
     },
     "execution_count": 22,
     "metadata": {},
     "output_type": "execute_result"
    }
   ],
   "source": [
    "df2 = df.copy()\n",
    "df2[\"E\"] = [\"one\", \"one\", \"two\", \"three\", \"four\", \"three\"]\n",
    "df2"
   ]
  },
  {
   "cell_type": "code",
   "execution_count": 25,
   "metadata": {},
   "outputs": [
    {
     "data": {
      "text/html": [
       "<div>\n",
       "<style scoped>\n",
       "    .dataframe tbody tr th:only-of-type {\n",
       "        vertical-align: middle;\n",
       "    }\n",
       "\n",
       "    .dataframe tbody tr th {\n",
       "        vertical-align: top;\n",
       "    }\n",
       "\n",
       "    .dataframe thead th {\n",
       "        text-align: right;\n",
       "    }\n",
       "</style>\n",
       "<table border=\"1\" class=\"dataframe\">\n",
       "  <thead>\n",
       "    <tr style=\"text-align: right;\">\n",
       "      <th></th>\n",
       "      <th>A</th>\n",
       "      <th>B</th>\n",
       "      <th>C</th>\n",
       "      <th>D</th>\n",
       "      <th>E</th>\n",
       "    </tr>\n",
       "  </thead>\n",
       "  <tbody>\n",
       "    <tr>\n",
       "      <th>2022-01-01</th>\n",
       "      <td>-0.801423</td>\n",
       "      <td>-0.521256</td>\n",
       "      <td>2.613659</td>\n",
       "      <td>-1.264521</td>\n",
       "      <td>one</td>\n",
       "    </tr>\n",
       "    <tr>\n",
       "      <th>2022-01-02</th>\n",
       "      <td>0.175570</td>\n",
       "      <td>0.211410</td>\n",
       "      <td>-1.132272</td>\n",
       "      <td>0.330294</td>\n",
       "      <td>one</td>\n",
       "    </tr>\n",
       "    <tr>\n",
       "      <th>2022-01-05</th>\n",
       "      <td>0.974522</td>\n",
       "      <td>-0.910128</td>\n",
       "      <td>0.652141</td>\n",
       "      <td>0.316324</td>\n",
       "      <td>four</td>\n",
       "    </tr>\n",
       "  </tbody>\n",
       "</table>\n",
       "</div>"
      ],
      "text/plain": [
       "                   A         B         C         D     E\n",
       "2022-01-01 -0.801423 -0.521256  2.613659 -1.264521   one\n",
       "2022-01-02  0.175570  0.211410 -1.132272  0.330294   one\n",
       "2022-01-05  0.974522 -0.910128  0.652141  0.316324  four"
      ]
     },
     "execution_count": 25,
     "metadata": {},
     "output_type": "execute_result"
    }
   ],
   "source": [
    "# isinメソッド\n",
    "df2[df2[\"E\"].isin([\"one\", \"four\"])]"
   ]
  },
  {
   "cell_type": "code",
   "execution_count": 26,
   "metadata": {},
   "outputs": [
    {
     "data": {
      "text/html": [
       "<div>\n",
       "<style scoped>\n",
       "    .dataframe tbody tr th:only-of-type {\n",
       "        vertical-align: middle;\n",
       "    }\n",
       "\n",
       "    .dataframe tbody tr th {\n",
       "        vertical-align: top;\n",
       "    }\n",
       "\n",
       "    .dataframe thead th {\n",
       "        text-align: right;\n",
       "    }\n",
       "</style>\n",
       "<table border=\"1\" class=\"dataframe\">\n",
       "  <thead>\n",
       "    <tr style=\"text-align: right;\">\n",
       "      <th></th>\n",
       "      <th>A</th>\n",
       "      <th>B</th>\n",
       "      <th>C</th>\n",
       "      <th>D</th>\n",
       "      <th>E</th>\n",
       "    </tr>\n",
       "  </thead>\n",
       "  <tbody>\n",
       "    <tr>\n",
       "      <th>2022-01-01</th>\n",
       "      <td>NaN</td>\n",
       "      <td>NaN</td>\n",
       "      <td>NaN</td>\n",
       "      <td>NaN</td>\n",
       "      <td>None</td>\n",
       "    </tr>\n",
       "    <tr>\n",
       "      <th>2022-01-02</th>\n",
       "      <td>-0.801423</td>\n",
       "      <td>-0.521256</td>\n",
       "      <td>2.613659</td>\n",
       "      <td>-1.264521</td>\n",
       "      <td>one</td>\n",
       "    </tr>\n",
       "    <tr>\n",
       "      <th>2022-01-03</th>\n",
       "      <td>0.175570</td>\n",
       "      <td>0.211410</td>\n",
       "      <td>-1.132272</td>\n",
       "      <td>0.330294</td>\n",
       "      <td>one</td>\n",
       "    </tr>\n",
       "    <tr>\n",
       "      <th>2022-01-04</th>\n",
       "      <td>0.648094</td>\n",
       "      <td>2.468972</td>\n",
       "      <td>0.237504</td>\n",
       "      <td>-0.577279</td>\n",
       "      <td>two</td>\n",
       "    </tr>\n",
       "    <tr>\n",
       "      <th>2022-01-05</th>\n",
       "      <td>-1.083805</td>\n",
       "      <td>-0.804736</td>\n",
       "      <td>0.219717</td>\n",
       "      <td>0.798769</td>\n",
       "      <td>three</td>\n",
       "    </tr>\n",
       "    <tr>\n",
       "      <th>2022-01-06</th>\n",
       "      <td>0.974522</td>\n",
       "      <td>-0.910128</td>\n",
       "      <td>0.652141</td>\n",
       "      <td>0.316324</td>\n",
       "      <td>four</td>\n",
       "    </tr>\n",
       "  </tbody>\n",
       "</table>\n",
       "</div>"
      ],
      "text/plain": [
       "                   A         B         C         D      E\n",
       "2022-01-01       NaN       NaN       NaN       NaN   None\n",
       "2022-01-02 -0.801423 -0.521256  2.613659 -1.264521    one\n",
       "2022-01-03  0.175570  0.211410 -1.132272  0.330294    one\n",
       "2022-01-04  0.648094  2.468972  0.237504 -0.577279    two\n",
       "2022-01-05 -1.083805 -0.804736  0.219717  0.798769  three\n",
       "2022-01-06  0.974522 -0.910128  0.652141  0.316324   four"
      ]
     },
     "execution_count": 26,
     "metadata": {},
     "output_type": "execute_result"
    }
   ],
   "source": [
    "# 1行追加\n",
    "df2.shift(1)"
   ]
  },
  {
   "cell_type": "code",
   "execution_count": 29,
   "metadata": {},
   "outputs": [
    {
     "data": {
      "text/html": [
       "<div>\n",
       "<style scoped>\n",
       "    .dataframe tbody tr th:only-of-type {\n",
       "        vertical-align: middle;\n",
       "    }\n",
       "\n",
       "    .dataframe tbody tr th {\n",
       "        vertical-align: top;\n",
       "    }\n",
       "\n",
       "    .dataframe thead th {\n",
       "        text-align: right;\n",
       "    }\n",
       "</style>\n",
       "<table border=\"1\" class=\"dataframe\">\n",
       "  <thead>\n",
       "    <tr style=\"text-align: right;\">\n",
       "      <th></th>\n",
       "      <th>0</th>\n",
       "      <th>1</th>\n",
       "    </tr>\n",
       "  </thead>\n",
       "  <tbody>\n",
       "    <tr>\n",
       "      <th>0</th>\n",
       "      <td>1.256729</td>\n",
       "      <td>0.499931</td>\n",
       "    </tr>\n",
       "    <tr>\n",
       "      <th>1</th>\n",
       "      <td>0.929016</td>\n",
       "      <td>1.076345</td>\n",
       "    </tr>\n",
       "    <tr>\n",
       "      <th>0</th>\n",
       "      <td>1.256729</td>\n",
       "      <td>0.499931</td>\n",
       "    </tr>\n",
       "    <tr>\n",
       "      <th>1</th>\n",
       "      <td>0.929016</td>\n",
       "      <td>1.076345</td>\n",
       "    </tr>\n",
       "  </tbody>\n",
       "</table>\n",
       "</div>"
      ],
      "text/plain": [
       "          0         1\n",
       "0  1.256729  0.499931\n",
       "1  0.929016  1.076345\n",
       "0  1.256729  0.499931\n",
       "1  0.929016  1.076345"
      ]
     },
     "execution_count": 29,
     "metadata": {},
     "output_type": "execute_result"
    }
   ],
   "source": [
    "# 結合\n",
    "df = pd.DataFrame(np.random.randn(2, 2))\n",
    "pd.concat([df, df])"
   ]
  },
  {
   "cell_type": "code",
   "execution_count": 33,
   "metadata": {},
   "outputs": [
    {
     "data": {
      "text/html": [
       "<div>\n",
       "<style scoped>\n",
       "    .dataframe tbody tr th:only-of-type {\n",
       "        vertical-align: middle;\n",
       "    }\n",
       "\n",
       "    .dataframe tbody tr th {\n",
       "        vertical-align: top;\n",
       "    }\n",
       "\n",
       "    .dataframe thead th {\n",
       "        text-align: right;\n",
       "    }\n",
       "</style>\n",
       "<table border=\"1\" class=\"dataframe\">\n",
       "  <thead>\n",
       "    <tr style=\"text-align: right;\">\n",
       "      <th></th>\n",
       "      <th>B</th>\n",
       "    </tr>\n",
       "    <tr>\n",
       "      <th>A</th>\n",
       "      <th></th>\n",
       "    </tr>\n",
       "  </thead>\n",
       "  <tbody>\n",
       "    <tr>\n",
       "      <th>bar</th>\n",
       "      <td>2.660197</td>\n",
       "    </tr>\n",
       "    <tr>\n",
       "      <th>foo</th>\n",
       "      <td>-0.639427</td>\n",
       "    </tr>\n",
       "  </tbody>\n",
       "</table>\n",
       "</div>"
      ],
      "text/plain": [
       "            B\n",
       "A            \n",
       "bar  2.660197\n",
       "foo -0.639427"
      ]
     },
     "execution_count": 33,
     "metadata": {},
     "output_type": "execute_result"
    }
   ],
   "source": [
    "# グループでまとめる\n",
    "df = pd.DataFrame({\"A\": [\"foo\", \"bar\", \"foo\", \"bar\"], \"B\": np.random.randn(4)})\n",
    "df.groupby(\"A\").sum()"
   ]
  }
 ],
 "metadata": {
  "kernelspec": {
   "display_name": ".venv",
   "language": "python",
   "name": "python3"
  },
  "language_info": {
   "codemirror_mode": {
    "name": "ipython",
    "version": 3
   },
   "file_extension": ".py",
   "mimetype": "text/x-python",
   "name": "python",
   "nbconvert_exporter": "python",
   "pygments_lexer": "ipython3",
   "version": "3.10.12"
  }
 },
 "nbformat": 4,
 "nbformat_minor": 2
}
